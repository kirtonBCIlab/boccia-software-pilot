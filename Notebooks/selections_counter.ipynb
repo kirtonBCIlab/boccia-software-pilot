{
 "cells": [
  {
   "cell_type": "markdown",
   "metadata": {},
   "source": [
    "# Selections counter\n",
    "\n",
    "This Notebook imports all files in [Data](../Data) and plots how many right or wrong selections were done in an experiment."
   ]
  },
  {
   "cell_type": "code",
   "execution_count": 1,
   "metadata": {},
   "outputs": [
    {
     "ename": "TypeError",
     "evalue": "'type' object is not subscriptable",
     "output_type": "error",
     "traceback": [
      "\u001b[0;31m---------------------------------------------------------------------------\u001b[0m",
      "\u001b[0;31mTypeError\u001b[0m                                 Traceback (most recent call last)",
      "\u001b[0;32m<ipython-input-1-730fe23bd214>\u001b[0m in \u001b[0;36m<module>\u001b[0;34m\u001b[0m\n\u001b[1;32m     10\u001b[0m \u001b[0;31m# Import custom\u001b[0m\u001b[0;34m\u001b[0m\u001b[0;34m\u001b[0m\u001b[0;34m\u001b[0m\u001b[0m\n\u001b[1;32m     11\u001b[0m \u001b[0msys\u001b[0m\u001b[0;34m.\u001b[0m\u001b[0mpath\u001b[0m\u001b[0;34m.\u001b[0m\u001b[0mappend\u001b[0m\u001b[0;34m(\u001b[0m\u001b[0;34m\"..\"\u001b[0m\u001b[0;34m)\u001b[0m \u001b[0;31m# Adds higher directory to python modules path.\u001b[0m\u001b[0;34m\u001b[0m\u001b[0;34m\u001b[0m\u001b[0m\n\u001b[0;32m---> 12\u001b[0;31m \u001b[0;32mfrom\u001b[0m \u001b[0mFunctions\u001b[0m \u001b[0;32mimport\u001b[0m \u001b[0mdata_tools\u001b[0m\u001b[0;34m\u001b[0m\u001b[0;34m\u001b[0m\u001b[0m\n\u001b[0m\u001b[1;32m     13\u001b[0m \u001b[0;32mfrom\u001b[0m \u001b[0mFunctions\u001b[0m \u001b[0;32mimport\u001b[0m \u001b[0munity_analysis\u001b[0m\u001b[0;34m\u001b[0m\u001b[0;34m\u001b[0m\u001b[0m\n",
      "\u001b[0;32m~/Documents/GitHub/boccia-software-pilot/Functions/data_tools.py\u001b[0m in \u001b[0;36m<module>\u001b[0;34m\u001b[0m\n\u001b[1;32m     11\u001b[0m \u001b[0;32mimport\u001b[0m \u001b[0mscipy\u001b[0m\u001b[0;34m.\u001b[0m\u001b[0msignal\u001b[0m \u001b[0;32mas\u001b[0m \u001b[0msignal\u001b[0m\u001b[0;34m\u001b[0m\u001b[0;34m\u001b[0m\u001b[0m\n\u001b[1;32m     12\u001b[0m \u001b[0;34m\u001b[0m\u001b[0m\n\u001b[0;32m---> 13\u001b[0;31m \u001b[0;32mdef\u001b[0m \u001b[0mimport_data\u001b[0m\u001b[0;34m(\u001b[0m\u001b[0mxdf_file\u001b[0m\u001b[0;34m:\u001b[0m\u001b[0mstr\u001b[0m\u001b[0;34m)\u001b[0m \u001b[0;34m->\u001b[0m \u001b[0mtuple\u001b[0m\u001b[0;34m[\u001b[0m\u001b[0mmne\u001b[0m\u001b[0;34m.\u001b[0m\u001b[0mio\u001b[0m\u001b[0;34m.\u001b[0m\u001b[0mRaw\u001b[0m\u001b[0;34m,\u001b[0m \u001b[0mpd\u001b[0m\u001b[0;34m.\u001b[0m\u001b[0mDataFrame\u001b[0m\u001b[0;34m,\u001b[0m \u001b[0mpd\u001b[0m\u001b[0;34m.\u001b[0m\u001b[0mDataFrame\u001b[0m\u001b[0;34m]\u001b[0m\u001b[0;34m:\u001b[0m\u001b[0;34m\u001b[0m\u001b[0;34m\u001b[0m\u001b[0m\n\u001b[0m\u001b[1;32m     14\u001b[0m     \"\"\"\n\u001b[1;32m     15\u001b[0m         \u001b[0mImports\u001b[0m \u001b[0mxdf\u001b[0m \u001b[0mfile\u001b[0m \u001b[0;32mand\u001b[0m \u001b[0mreturns\u001b[0m \u001b[0mthe\u001b[0m \u001b[0mEEG\u001b[0m \u001b[0mstream\u001b[0m\u001b[0;34m,\u001b[0m \u001b[0mPython\u001b[0m \u001b[0mresponse\u001b[0m\u001b[0;34m,\u001b[0m \u001b[0;32mand\u001b[0m \u001b[0mUnity\u001b[0m \u001b[0mstream\u001b[0m\u001b[0;34m\u001b[0m\u001b[0;34m\u001b[0m\u001b[0m\n",
      "\u001b[0;31mTypeError\u001b[0m: 'type' object is not subscriptable"
     ]
    }
   ],
   "source": [
    "# Import modules\n",
    "import sys\n",
    "import json\n",
    "import numpy as np\n",
    "import scipy.stats as stats\n",
    "import pandas as pd\n",
    "import seaborn as sns\n",
    "import matplotlib.pyplot as plt\n",
    "\n",
    "# Import custom \n",
    "sys.path.append(\"..\") # Adds higher directory to python modules path.\n",
    "from Functions import data_tools\n",
    "from Functions import unity_analysis"
   ]
  },
  {
   "cell_type": "markdown",
   "metadata": {},
   "source": [
    "# Import data\n",
    "\n",
    "Import the data files contained in the [subjects](/subjects.json) file"
   ]
  },
  {
   "cell_type": "code",
   "execution_count": null,
   "metadata": {},
   "outputs": [],
   "source": [
    "# Import data\n",
    "file = open(\"..\\subjects.json\")\n",
    "json_data = json.load(file)\n",
    "\n",
    "p300_trials = json_data[\"p300\"]\n",
    "ssvep_trials = json_data[\"ssvep\"]\n",
    "\n",
    "p300_nsubjects = len(p300_trials)\n",
    "ssvep_nsubjects = len(ssvep_trials)\n",
    "\n",
    "# Preallocate variables\n",
    "p300_unity_stream = [None] * p300_nsubjects\n",
    "ssvep_unity_stream = [None] * ssvep_nsubjects\n",
    "\n",
    "print(\"P300 trials\")\n",
    "for i, (key, value) in enumerate(p300_trials.items()):\n",
    "    trial = f\"..\\\\Data\\\\{key}\\\\eeg\\\\{value}\"\n",
    "    print(f\"- Importing: {trial}\")\n",
    "    [_,_,p300_unity_stream[i]] = data_tools.import_data(f\"..\\\\Data\\\\{key}\\\\eeg\\\\{value}\")\n",
    "\n",
    "print(\"\\nSSVEP trials\")\n",
    "for i, (key, value) in enumerate(ssvep_trials.items()):\n",
    "    trial = f\"..\\\\Data\\\\{key}\\\\eeg\\\\{value}\"\n",
    "    print(f\"- Importing: {trial}\")\n",
    "    [_,_,ssvep_unity_stream[i]] = data_tools.import_data(f\"..\\\\Data\\\\{key}\\\\eeg\\\\{value}\")\n"
   ]
  },
  {
   "cell_type": "markdown",
   "metadata": {},
   "source": [
    "# P300 Analysis\n",
    "\n",
    "## Totals\n",
    "\n",
    "### Number of selections\n",
    "\n",
    "Compute the number of `[correct, incorrect]` selections found in each stream"
   ]
  },
  {
   "cell_type": "code",
   "execution_count": null,
   "metadata": {},
   "outputs": [],
   "source": [
    "# Settings\n",
    "plot_bar = True\n",
    "\n",
    "total_list = unity_analysis.total_metrics(p300_unity_stream)   # List of subjects\n",
    "total_np = np.concatenate(total_list,axis=0)\n",
    "\n",
    "if plot_bar:\n",
    "    fig, ax = plt.subplots()\n",
    "    plt.boxplot(total_np)\n",
    "    # ax = sns.violinplot(total_np)\n",
    "    ax.set_xticks([1,2], [\"Correct\", \"Incorrect\"])\n",
    "    ax.set_ylabel('Number of selections [n]')\n",
    "    "
   ]
  },
  {
   "cell_type": "markdown",
   "metadata": {},
   "source": [
    "### Accuracy\n",
    "\n",
    "Compute and plot accurary per subject and for all subjects. "
   ]
  },
  {
   "cell_type": "code",
   "execution_count": null,
   "metadata": {},
   "outputs": [],
   "source": [
    "plot_accuracies =True\n",
    "\n",
    "# Preallocate variables\n",
    "mean_acc_per_subject = np.zeros(len(total_list))\n",
    "sem_acc_per_subject = np.zeros(len(total_list))\n",
    "\n",
    "for (s,subject) in enumerate(total_list):\n",
    "    temp_accuracy = subject[:,0] / np.sum(subject, axis=1)\n",
    "    mean_acc_per_subject[s] = np.mean(temp_accuracy)\n",
    "    sem_acc_per_subject[s] = np.std(temp_accuracy) / np.sqrt(len(temp_accuracy))\n",
    "\n",
    "# Total accuracy\n",
    "total_acc = total_np[:,0] / np.sum(total_np, axis=1)\n",
    "print(f'Total accuracy: {np.mean(total_acc):0.2f} ± {np.std(total_acc)/np.sqrt(np.shape(total_acc)[0]):0.2f} [Mean ± SEM]')\n",
    "\n",
    "if plot_accuracies:\n",
    "    fig, ax = plt.subplots()\n",
    "    \n",
    "    ax.bar(\n",
    "        x=np.arange(p300_nsubjects),\n",
    "        height=mean_acc_per_subject*100,\n",
    "        yerr=sem_acc_per_subject*100,\n",
    "        capsize=5)\n",
    "    ax.set_xticks(np.arange(p300_nsubjects))\n",
    "    ax.set_xticklabels(np.arange(p300_nsubjects)+1)\n",
    "    ax.set_xlabel(\"Subject\")\n",
    "    ax.set_ylabel(\"Total accuracy\\n[Mean $\\pm$ SEM %]\")\n",
    "    # plt.tight_layout()\n",
    "\n",
    "    # Mean value\n",
    "    x_loc = p300_nsubjects+1\n",
    "    ax.bar(x=x_loc,\n",
    "           height=np.mean(mean_acc_per_subject)*100,\n",
    "           yerr = stats.sem(mean_acc_per_subject)*100,\n",
    "           capsize=5)\n",
    "    \n"
   ]
  },
  {
   "cell_type": "markdown",
   "metadata": {},
   "source": [
    "## Succesfully dropped ball\n",
    "\n",
    "How many people successfully dropped the ball as their last move?"
   ]
  },
  {
   "cell_type": "code",
   "execution_count": null,
   "metadata": {},
   "outputs": [],
   "source": []
  },
  {
   "cell_type": "markdown",
   "metadata": {},
   "source": [
    "# SSVEP Analysis\n",
    "\n",
    "## Totals\n",
    "\n",
    "### Number of selections\n",
    "\n",
    "Compute the number of `[correct, incorrect]` selections found in each stream"
   ]
  },
  {
   "cell_type": "code",
   "execution_count": null,
   "metadata": {},
   "outputs": [],
   "source": [
    "# Settings\n",
    "plot_bar = True\n",
    "\n",
    "# Organize pipelines per subject\n",
    "ssvep_nsubjects = len(list(set([val.split(\"_\")[0].split('-')[-1] for (_,val) in ssvep_trials.items()])))\n",
    "\n",
    "total_list = unity_analysis.total_metrics(ssvep_unity_stream)   # List of subjects\n",
    "total_np = np.concatenate(total_list,axis=0)\n",
    "\n",
    "if plot_bar:\n",
    "    fig, ax = plt.subplots()\n",
    "    plt.boxplot(total_np)\n",
    "    # ax = sns.violinplot(total_np)\n",
    "    ax.set_xticks([1,2], [\"Correct\", \"Incorrect\"])\n",
    "    ax.set_ylabel('Number of selections [n]')"
   ]
  },
  {
   "cell_type": "markdown",
   "metadata": {},
   "source": [
    "## Accuracy\n"
   ]
  },
  {
   "cell_type": "code",
   "execution_count": null,
   "metadata": {},
   "outputs": [],
   "source": [
    "# Organize pipelines per subject\n",
    "ssvep_nsubjects = len(list(set([val.split(\"_\")[0].split('-')[-1] for (_,val) in ssvep_trials.items()])))\n",
    "total_list = [None] * ssvep_nsubjects \n",
    "list_idx = 0\n",
    "\n",
    "for (s,(key,subject)) in enumerate(ssvep_trials.items()):\n",
    "    if (s == 0):\n",
    "        total_list[list_idx] = unity_analysis.total_metrics([ssvep_unity_stream[s]])\n",
    "    if (s >= 1):\n",
    "        curr_id = subject.split('_')[0].split('-')[-1]\n",
    "        prev_id = list(ssvep_trials.values())[s-1].split('_')[0].split('-')[-1]\n",
    "        if (curr_id != prev_id):\n",
    "            list_idx += 1\n",
    "            total_list[list_idx] = unity_analysis.total_metrics([ssvep_unity_stream[s]])\n",
    "        else:\n",
    "            append_vals = unity_analysis.total_metrics([ssvep_unity_stream[s]])\n",
    "            total_list[list_idx].append(append_vals[0])\n",
    "\n",
    "# Organize lists in numpy array\n",
    "for (l,lists) in enumerate(total_list):\n",
    "    # if len(lists) > 1:\n",
    "    total_list[l] = np.reshape(lists, (-1,2))"
   ]
  },
  {
   "cell_type": "code",
   "execution_count": null,
   "metadata": {},
   "outputs": [],
   "source": [
    "temp=ssvep_unity_stream[0]"
   ]
  },
  {
   "cell_type": "code",
   "execution_count": null,
   "metadata": {},
   "outputs": [],
   "source": [
    "plot_accuracies =True\n",
    "            \n",
    "# Preallocate variables\n",
    "ssvep_nsubjects = len(list(set([val.split(\"_\")[0].split('-')[-1] for (_,val) in ssvep_trials.items()])))\n",
    "mean_acc_per_subject = np.zeros(ssvep_nsubjects)\n",
    "sem_acc_per_subject = np.zeros(ssvep_nsubjects)\n",
    "\n",
    "for (s,subject) in enumerate(total_list):\n",
    "    temp_accuracy = subject[:,0] / np.sum(subject, axis=1)\n",
    "    mean_acc_per_subject[s] = np.mean(temp_accuracy)\n",
    "    sem_acc_per_subject[s] = np.std(temp_accuracy) / np.sqrt(len(temp_accuracy))\n",
    "\n",
    "# Total accuracy\n",
    "total_acc = total_np[:,0] / np.sum(total_np, axis=1)\n",
    "print(f'Total accuracy: {np.mean(total_acc):0.2f} ± {np.std(total_acc)/np.sqrt(np.shape(total_acc)[0]):0.2f} [Mean ± SEM]')\n",
    "\n",
    "if plot_accuracies:\n",
    "    fig, ax = plt.subplots()\n",
    "    \n",
    "    ax.bar(\n",
    "        x=np.arange(ssvep_nsubjects),\n",
    "        height=mean_acc_per_subject*100,\n",
    "        yerr=sem_acc_per_subject*100,\n",
    "        capsize=5)\n",
    "    ax.set_xticks(np.arange(p300_nsubjects))\n",
    "    ax.set_xticklabels(np.arange(p300_nsubjects)+1)\n",
    "    ax.set_xlabel(\"Subject\")\n",
    "    ax.set_ylabel(\"Total accuracy\\n[Mean $\\pm$ SEM %]\")\n",
    "    # plt.tight_layout()\n",
    "\n",
    "    # Mean value\n",
    "    x_loc = p300_nsubjects+1\n",
    "    ax.bar(x=x_loc,\n",
    "           height=np.mean(mean_acc_per_subject)*100,\n",
    "           yerr = stats.sem(mean_acc_per_subject)*100,\n",
    "           capsize=5)\n",
    "    ax.set_ylim((0,110))"
   ]
  }
 ],
 "metadata": {
  "kernelspec": {
   "display_name": "Python 3",
   "language": "python",
   "name": "python3"
  },
  "language_info": {
   "codemirror_mode": {
    "name": "ipython",
    "version": 3
   },
   "file_extension": ".py",
   "mimetype": "text/x-python",
   "name": "python",
   "nbconvert_exporter": "python",
   "pygments_lexer": "ipython3",
   "version": "3.8.5"
  }
 },
 "nbformat": 4,
 "nbformat_minor": 2
}
